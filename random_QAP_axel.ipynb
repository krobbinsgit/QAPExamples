{
 "cells": [
  {
   "cell_type": "markdown",
   "metadata": {},
   "source": [
    "# Random QAP Generator\n",
    "We'd like a random quadratic assignment problem (QAP) generator for use in benchmarking our solvers/code against others. There are many levels to this project and we'll detail them below. For background on QAPs, read the README file in preview mode (right click and select Open Preview).\n",
    "\n",
    "## The Base Function\n",
    "A random QAP generator. Do this first.\n",
    "### Inputs\n",
    "Integer $n>1$.\n",
    "### Outputs\n",
    "Two $n\\times n$ matrices $A, B$ as numpy arrays. These matrices are *symmetric* and have all zeroes on the diagonal. Each nonzero entry of $A,B$ is a randomly generated integer from $0$ to $100$.\n",
    "\n",
    "## Options for the Function\n",
    "These can be added to the function as keyword arguments. Write the code so that if no keyword is given a value, the default function behaves as described in \"The Base Function\" section. These optional items will be written in order of priority.\n",
    "\n",
    "### Manual Range for Randomness\n",
    "**Task:** Add the ability to set independent upper and lower bounds for the randomly generated matrix entries. Default upper bound is $100$ and default lower bound is $0$.\n",
    "\n",
    "**Why?** Some QAPs have huge ranges and some don't. I want to be able to vary this.\n",
    "\n",
    "### Int or Float\n",
    "**Task:** Add the ability to toggle between the entries being integers or floats. Default should be integers.\n",
    "\n",
    "**Why?** Though every example of a QAP I've seen thus far has integer values for $A,B$, there is no real reason we should restrict ourselves as such.\n",
    "\n",
    "### Sparseness for the Matrices\n",
    "**Task:** Might be a tricky one. Find a way to set a sparseness $1\\leq spA, spB \\leq n-1$ for each matrix $A,B$. For context: the sparseness of matrix $M$ the maximum number of nonzero entries in each of $M$'s rows and columns. The maximum sparseness for a QAP is $n-1$ because the diagonal entries must be zero.\n",
    "\n",
    "**Why?** Because matrices $A,B$ represent either distance or material flow between factories/facilities/etc., it makes sense that not all factories send or receive material from all others. Setting a sparseness will allow us to control the level of connectedness between the factories. The reason I want sparsness control over both distance and flow matrices is because the examples given from QAPLIB aren't totally consistent on whether $A$ or $B$ are flow or distance."
   ]
  },
  {
   "cell_type": "code",
   "execution_count": 8,
   "metadata": {},
   "outputs": [],
   "source": [
    "def ran_qap(n:int):\n",
    "    assert n > 1\n",
    "    # code here\n",
    "    return(A,B)"
   ]
  }
 ],
 "metadata": {
  "kernelspec": {
   "display_name": "Python 3",
   "language": "python",
   "name": "python3"
  },
  "language_info": {
   "codemirror_mode": {
    "name": "ipython",
    "version": 3
   },
   "file_extension": ".py",
   "mimetype": "text/x-python",
   "name": "python",
   "nbconvert_exporter": "python",
   "pygments_lexer": "ipython3",
   "version": "3.11.1"
  },
  "orig_nbformat": 4
 },
 "nbformat": 4,
 "nbformat_minor": 2
}
